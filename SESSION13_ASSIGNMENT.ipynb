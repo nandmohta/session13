{
 "cells": [
  {
   "cell_type": "code",
   "execution_count": 1,
   "metadata": {},
   "outputs": [],
   "source": [
    "#Read the following data set:\n",
    "# https://archive.ics.uci.edu/ml/machine-learning-databases/adult/adult.data\n",
    "# Task:\n",
    "# # 1. Create an sqlalchemy engine using a sample from the data set\n",
    "# 2. Write two basic update queries\n",
    "# 3. Write two delete queries\n",
    "# 4. Write two filter queries\n",
    "# 5. Write two function queries"
   ]
  },
  {
   "cell_type": "code",
   "execution_count": 2,
   "metadata": {},
   "outputs": [],
   "source": [
    "# Create a sql db from adult dataset and name it sqladb\n",
    "import numpy as np\n",
    "import pandas as pd\n",
    "from pandas import DataFrame, Series\n",
    "import sqlalchemy\n",
    "import sqlite3 as db"
   ]
  },
  {
   "cell_type": "code",
   "execution_count": 3,
   "metadata": {},
   "outputs": [],
   "source": [
    "#1. Create an sqlalchemy engine using a sample from the data set"
   ]
  },
  {
   "cell_type": "code",
   "execution_count": 4,
   "metadata": {},
   "outputs": [],
   "source": [
    "from sqlalchemy import create_engine"
   ]
  },
  {
   "cell_type": "code",
   "execution_count": 5,
   "metadata": {},
   "outputs": [],
   "source": [
    "engine = create_engine('sqlite:///:memory:',echo=True)"
   ]
  },
  {
   "cell_type": "code",
   "execution_count": 6,
   "metadata": {},
   "outputs": [],
   "source": [
    "from sqlalchemy.ext.declarative import declarative_base\n",
    "Base = declarative_base()"
   ]
  },
  {
   "cell_type": "code",
   "execution_count": 7,
   "metadata": {},
   "outputs": [],
   "source": [
    "from sqlalchemy import Column, Integer, String"
   ]
  },
  {
   "cell_type": "code",
   "execution_count": 8,
   "metadata": {},
   "outputs": [],
   "source": [
    "class Adults(Base):\n",
    "    __tablename__ = 'adults'\n",
    "    extend_existing=True\n",
    "    \n",
    "    id = Column(Integer, primary_key=True)\n",
    "    age = Column(Integer)\n",
    "    workclass =  Column(String)\n",
    "    fnlwgt = Column(String)      \n",
    "    education = Column(String)\n",
    "    educationnum = Column(String)\n",
    "    maritalstatus = Column(String)\n",
    "    occupation = Column(String)\n",
    "    relationship = Column(String)\n",
    "    race = Column(String)\n",
    "    sex = Column(String)\n",
    "    capitalgain = Column(String)\n",
    "    capitalloss = Column(String)\n",
    "    hoursperweek = Column(String)\n",
    "    nativecountry = Column(String)\n",
    "    totalgain =  Column(String)\n",
    "    \n",
    "    def __repr__(self):\n",
    "        return \"<Adults(age='%s', workclass='%s', fnlwgt='%s',capitalloss=%s)>\" % (self.age, self.workclass, self.fnlwgt,\n",
    "                                                                                  self.capitalloss)\n",
    "    "
   ]
  },
  {
   "cell_type": "code",
   "execution_count": 9,
   "metadata": {},
   "outputs": [
    {
     "name": "stdout",
     "output_type": "stream",
     "text": [
      "2018-11-24 23:02:57,503 INFO sqlalchemy.engine.base.Engine SELECT CAST('test plain returns' AS VARCHAR(60)) AS anon_1\n",
      "2018-11-24 23:02:57,519 INFO sqlalchemy.engine.base.Engine ()\n",
      "2018-11-24 23:02:57,522 INFO sqlalchemy.engine.base.Engine SELECT CAST('test unicode returns' AS VARCHAR(60)) AS anon_1\n",
      "2018-11-24 23:02:57,524 INFO sqlalchemy.engine.base.Engine ()\n",
      "2018-11-24 23:02:57,528 INFO sqlalchemy.engine.base.Engine PRAGMA table_info(\"adults\")\n",
      "2018-11-24 23:02:57,531 INFO sqlalchemy.engine.base.Engine ()\n",
      "2018-11-24 23:02:57,537 INFO sqlalchemy.engine.base.Engine \n",
      "CREATE TABLE adults (\n",
      "\tid INTEGER NOT NULL, \n",
      "\tage INTEGER, \n",
      "\tworkclass VARCHAR, \n",
      "\tfnlwgt VARCHAR, \n",
      "\teducation VARCHAR, \n",
      "\teducationnum VARCHAR, \n",
      "\tmaritalstatus VARCHAR, \n",
      "\toccupation VARCHAR, \n",
      "\trelationship VARCHAR, \n",
      "\trace VARCHAR, \n",
      "\tsex VARCHAR, \n",
      "\tcapitalgain VARCHAR, \n",
      "\tcapitalloss VARCHAR, \n",
      "\thoursperweek VARCHAR, \n",
      "\tnativecountry VARCHAR, \n",
      "\ttotalgain VARCHAR, \n",
      "\tPRIMARY KEY (id)\n",
      ")\n",
      "\n",
      "\n",
      "2018-11-24 23:02:57,540 INFO sqlalchemy.engine.base.Engine ()\n",
      "2018-11-24 23:02:57,543 INFO sqlalchemy.engine.base.Engine COMMIT\n"
     ]
    }
   ],
   "source": [
    "Base.metadata.create_all(engine)"
   ]
  },
  {
   "cell_type": "code",
   "execution_count": 10,
   "metadata": {},
   "outputs": [],
   "source": [
    "from sqlalchemy.orm import sessionmaker"
   ]
  },
  {
   "cell_type": "code",
   "execution_count": 11,
   "metadata": {},
   "outputs": [],
   "source": [
    "Session = sessionmaker(bind=engine)\n",
    "Session.configure(bind=engine)\n",
    "session = Session()"
   ]
  },
  {
   "cell_type": "code",
   "execution_count": 12,
   "metadata": {},
   "outputs": [],
   "source": [
    "session.add_all([Adults(age=50, workclass=' Self-emp-not-inc',fnlwgt=' 83311', education='Bachelors', educationnum='13',\n",
    "                   maritalstatus=' Married-civ-spouse', occupation=' Exec-managerial', relationship=' Husband', \n",
    "                   race=' White',sex= ' Male',capitalgain=' 04', capitalloss=' 0', hoursperweek=' 13',\n",
    "                   nativecountry=' United-States', totalgain=' <=50K\\n'),\n",
    "            Adults(age=38, workclass=' Private',fnlwgt=' 215646', education='HS-grad', educationnum='9',\n",
    "                   maritalstatus=' Divorced', occupation=' Handlers-cleaners', relationship=' Not-in-family', \n",
    "                   race=' White',sex= ' Male',capitalgain=' 0', capitalloss=' 0', hoursperweek=' 40',\n",
    "                   nativecountry=' United-States', totalgain=' <=50K\\n'),\n",
    "            Adults(age=39, workclass='State-gov',fnlwgt='77516', education='Bachelors', educationnum='13',maritalstatus=' Never-married',\n",
    "                    occupation=' Adm-clerical', relationship=' Not-in-family', race=' White',sex= ' Male',capitalgain=' 2174', \n",
    "                    capitalloss=' 0', hoursperweek=' 40', nativecountry=' United-States', totalgain=' <=50K\\n'),\n",
    "            Adults(age=53, workclass='Private',fnlwgt='234721', education='11th', educationnum='7',maritalstatus=' Married-civ-spouse',\n",
    "                    occupation=' Handlers-cleaners', relationship=' Husband', race=' Black',sex= ' Male',capitalgain=' 0', \n",
    "                    capitalloss=' 0', hoursperweek=' 40', nativecountry=' United-States', totalgain=' <=50K\\n')])    \n"
   ]
  },
  {
   "cell_type": "code",
   "execution_count": 13,
   "metadata": {},
   "outputs": [
    {
     "name": "stdout",
     "output_type": "stream",
     "text": [
      "2018-11-24 23:03:13,598 INFO sqlalchemy.engine.base.Engine BEGIN (implicit)\n",
      "2018-11-24 23:03:13,605 INFO sqlalchemy.engine.base.Engine INSERT INTO adults (age, workclass, fnlwgt, education, educationnum, maritalstatus, occupation, relationship, race, sex, capitalgain, capitalloss, hoursperweek, nativecountry, totalgain) VALUES (?, ?, ?, ?, ?, ?, ?, ?, ?, ?, ?, ?, ?, ?, ?)\n",
      "2018-11-24 23:03:13,608 INFO sqlalchemy.engine.base.Engine (50, ' Self-emp-not-inc', ' 83311', 'Bachelors', '13', ' Married-civ-spouse', ' Exec-managerial', ' Husband', ' White', ' Male', ' 04', ' 0', ' 13', ' United-States', ' <=50K\\n')\n",
      "2018-11-24 23:03:13,611 INFO sqlalchemy.engine.base.Engine INSERT INTO adults (age, workclass, fnlwgt, education, educationnum, maritalstatus, occupation, relationship, race, sex, capitalgain, capitalloss, hoursperweek, nativecountry, totalgain) VALUES (?, ?, ?, ?, ?, ?, ?, ?, ?, ?, ?, ?, ?, ?, ?)\n",
      "2018-11-24 23:03:13,613 INFO sqlalchemy.engine.base.Engine (38, ' Private', ' 215646', 'HS-grad', '9', ' Divorced', ' Handlers-cleaners', ' Not-in-family', ' White', ' Male', ' 0', ' 0', ' 40', ' United-States', ' <=50K\\n')\n",
      "2018-11-24 23:03:13,616 INFO sqlalchemy.engine.base.Engine INSERT INTO adults (age, workclass, fnlwgt, education, educationnum, maritalstatus, occupation, relationship, race, sex, capitalgain, capitalloss, hoursperweek, nativecountry, totalgain) VALUES (?, ?, ?, ?, ?, ?, ?, ?, ?, ?, ?, ?, ?, ?, ?)\n",
      "2018-11-24 23:03:13,618 INFO sqlalchemy.engine.base.Engine (39, 'State-gov', '77516', 'Bachelors', '13', ' Never-married', ' Adm-clerical', ' Not-in-family', ' White', ' Male', ' 2174', ' 0', ' 40', ' United-States', ' <=50K\\n')\n",
      "2018-11-24 23:03:13,621 INFO sqlalchemy.engine.base.Engine INSERT INTO adults (age, workclass, fnlwgt, education, educationnum, maritalstatus, occupation, relationship, race, sex, capitalgain, capitalloss, hoursperweek, nativecountry, totalgain) VALUES (?, ?, ?, ?, ?, ?, ?, ?, ?, ?, ?, ?, ?, ?, ?)\n",
      "2018-11-24 23:03:13,623 INFO sqlalchemy.engine.base.Engine (53, 'Private', '234721', '11th', '7', ' Married-civ-spouse', ' Handlers-cleaners', ' Husband', ' Black', ' Male', ' 0', ' 0', ' 40', ' United-States', ' <=50K\\n')\n",
      "2018-11-24 23:03:13,629 INFO sqlalchemy.engine.base.Engine SELECT adults.id AS adults_id, adults.age AS adults_age, adults.workclass AS adults_workclass, adults.fnlwgt AS adults_fnlwgt, adults.education AS adults_education, adults.educationnum AS adults_educationnum, adults.maritalstatus AS adults_maritalstatus, adults.occupation AS adults_occupation, adults.relationship AS adults_relationship, adults.race AS adults_race, adults.sex AS adults_sex, adults.capitalgain AS adults_capitalgain, adults.capitalloss AS adults_capitalloss, adults.hoursperweek AS adults_hoursperweek, adults.nativecountry AS adults_nativecountry, adults.totalgain AS adults_totalgain \n",
      "FROM adults\n",
      "2018-11-24 23:03:13,631 INFO sqlalchemy.engine.base.Engine ()\n"
     ]
    }
   ],
   "source": [
    "our_adults = session.query(Adults).all()"
   ]
  },
  {
   "cell_type": "code",
   "execution_count": 15,
   "metadata": {},
   "outputs": [
    {
     "name": "stdout",
     "output_type": "stream",
     "text": [
      "2018-11-24 23:04:02,323 INFO sqlalchemy.engine.base.Engine SELECT adults.id AS adults_id, adults.age AS adults_age, adults.workclass AS adults_workclass, adults.fnlwgt AS adults_fnlwgt, adults.education AS adults_education, adults.educationnum AS adults_educationnum, adults.maritalstatus AS adults_maritalstatus, adults.occupation AS adults_occupation, adults.relationship AS adults_relationship, adults.race AS adults_race, adults.sex AS adults_sex, adults.capitalgain AS adults_capitalgain, adults.capitalloss AS adults_capitalloss, adults.hoursperweek AS adults_hoursperweek, adults.nativecountry AS adults_nativecountry, adults.totalgain AS adults_totalgain \n",
      "FROM adults \n",
      "WHERE adults.age = ?\n",
      " LIMIT ? OFFSET ?\n",
      "2018-11-24 23:04:02,325 INFO sqlalchemy.engine.base.Engine (39, 1, 0)\n",
      "2018-11-24 23:04:02,332 INFO sqlalchemy.engine.base.Engine SELECT adults.id AS adults_id, adults.age AS adults_age, adults.workclass AS adults_workclass, adults.fnlwgt AS adults_fnlwgt, adults.education AS adults_education, adults.educationnum AS adults_educationnum, adults.maritalstatus AS adults_maritalstatus, adults.occupation AS adults_occupation, adults.relationship AS adults_relationship, adults.race AS adults_race, adults.sex AS adults_sex, adults.capitalgain AS adults_capitalgain, adults.capitalloss AS adults_capitalloss, adults.hoursperweek AS adults_hoursperweek, adults.nativecountry AS adults_nativecountry, adults.totalgain AS adults_totalgain \n",
      "FROM adults \n",
      "WHERE adults.age = ?\n",
      " LIMIT ? OFFSET ?\n",
      "2018-11-24 23:04:02,334 INFO sqlalchemy.engine.base.Engine (50, 1, 0)\n"
     ]
    }
   ],
   "source": [
    "# 2. Write two basic update queries\n",
    "adult1 = session.query(Adults).filter_by(age=39).first()  # Fetch the rows that need to be updated\n",
    "adult2 = session.query(Adults).filter_by(age=50).first()  # Fetch row two that need to be updated"
   ]
  },
  {
   "cell_type": "code",
   "execution_count": 16,
   "metadata": {},
   "outputs": [
    {
     "name": "stdout",
     "output_type": "stream",
     "text": [
      "2018-11-24 23:04:04,984 INFO sqlalchemy.engine.base.Engine UPDATE adults SET fnlwgt=? WHERE adults.id = ?\n",
      "2018-11-24 23:04:04,987 INFO sqlalchemy.engine.base.Engine ((222222, 1), (111111, 3))\n",
      "2018-11-24 23:04:04,992 INFO sqlalchemy.engine.base.Engine SELECT adults.id AS adults_id, adults.age AS adults_age, adults.workclass AS adults_workclass, adults.fnlwgt AS adults_fnlwgt, adults.education AS adults_education, adults.educationnum AS adults_educationnum, adults.maritalstatus AS adults_maritalstatus, adults.occupation AS adults_occupation, adults.relationship AS adults_relationship, adults.race AS adults_race, adults.sex AS adults_sex, adults.capitalgain AS adults_capitalgain, adults.capitalloss AS adults_capitalloss, adults.hoursperweek AS adults_hoursperweek, adults.nativecountry AS adults_nativecountry, adults.totalgain AS adults_totalgain \n",
      "FROM adults\n",
      "2018-11-24 23:04:04,995 INFO sqlalchemy.engine.base.Engine ()\n"
     ]
    },
    {
     "data": {
      "text/plain": [
       "[<Adults(age='50', workclass=' Self-emp-not-inc', fnlwgt='222222',capitalloss= 0)>,\n",
       " <Adults(age='38', workclass=' Private', fnlwgt=' 215646',capitalloss= 0)>,\n",
       " <Adults(age='39', workclass='State-gov', fnlwgt='111111',capitalloss= 0)>,\n",
       " <Adults(age='53', workclass='Private', fnlwgt='234721',capitalloss= 0)>]"
      ]
     },
     "execution_count": 16,
     "metadata": {},
     "output_type": "execute_result"
    }
   ],
   "source": [
    "adult1.fnlwgt = 111111 # Update fnlwgt of Row with age 39 \n",
    "adult2.fnlwgt = 222222 # Update fnlwgt of Row with age 50 \n",
    "session.query(Adults).all()"
   ]
  },
  {
   "cell_type": "code",
   "execution_count": 17,
   "metadata": {},
   "outputs": [],
   "source": [
    "#3.Write two delete queries\n",
    "session.delete(adult1) # Delete row with age 39\n",
    "session.delete(adult2) # Delete row with age 50"
   ]
  },
  {
   "cell_type": "code",
   "execution_count": 18,
   "metadata": {},
   "outputs": [
    {
     "name": "stdout",
     "output_type": "stream",
     "text": [
      "2018-11-24 23:04:12,392 INFO sqlalchemy.engine.base.Engine DELETE FROM adults WHERE adults.id = ?\n",
      "2018-11-24 23:04:12,395 INFO sqlalchemy.engine.base.Engine ((1,), (3,))\n",
      "2018-11-24 23:04:12,399 INFO sqlalchemy.engine.base.Engine SELECT adults.id AS adults_id, adults.age AS adults_age, adults.workclass AS adults_workclass, adults.fnlwgt AS adults_fnlwgt, adults.education AS adults_education, adults.educationnum AS adults_educationnum, adults.maritalstatus AS adults_maritalstatus, adults.occupation AS adults_occupation, adults.relationship AS adults_relationship, adults.race AS adults_race, adults.sex AS adults_sex, adults.capitalgain AS adults_capitalgain, adults.capitalloss AS adults_capitalloss, adults.hoursperweek AS adults_hoursperweek, adults.nativecountry AS adults_nativecountry, adults.totalgain AS adults_totalgain \n",
      "FROM adults\n",
      "2018-11-24 23:04:12,401 INFO sqlalchemy.engine.base.Engine ()\n"
     ]
    },
    {
     "data": {
      "text/plain": [
       "[<Adults(age='38', workclass=' Private', fnlwgt=' 215646',capitalloss= 0)>,\n",
       " <Adults(age='53', workclass='Private', fnlwgt='234721',capitalloss= 0)>]"
      ]
     },
     "execution_count": 18,
     "metadata": {},
     "output_type": "execute_result"
    }
   ],
   "source": [
    "session.query(Adults).all()"
   ]
  },
  {
   "cell_type": "code",
   "execution_count": 19,
   "metadata": {},
   "outputs": [
    {
     "name": "stdout",
     "output_type": "stream",
     "text": [
      "2018-11-24 23:04:16,249 INFO sqlalchemy.engine.base.Engine SELECT adults.id AS adults_id, adults.age AS adults_age, adults.workclass AS adults_workclass, adults.fnlwgt AS adults_fnlwgt, adults.education AS adults_education, adults.educationnum AS adults_educationnum, adults.maritalstatus AS adults_maritalstatus, adults.occupation AS adults_occupation, adults.relationship AS adults_relationship, adults.race AS adults_race, adults.sex AS adults_sex, adults.capitalgain AS adults_capitalgain, adults.capitalloss AS adults_capitalloss, adults.hoursperweek AS adults_hoursperweek, adults.nativecountry AS adults_nativecountry, adults.totalgain AS adults_totalgain \n",
      "FROM adults ORDER BY adults.id\n",
      " LIMIT ? OFFSET ?\n",
      "2018-11-24 23:04:16,252 INFO sqlalchemy.engine.base.Engine (2, 1)\n",
      "<Adults(age='53', workclass='Private', fnlwgt='234721',capitalloss= 0)>\n"
     ]
    }
   ],
   "source": [
    "# 4. Write two filter queries\n",
    "for u in session.query(Adults).order_by(Adults.id)[1:3]:\n",
    "    print(u)"
   ]
  },
  {
   "cell_type": "code",
   "execution_count": 20,
   "metadata": {},
   "outputs": [
    {
     "name": "stdout",
     "output_type": "stream",
     "text": [
      "2018-11-24 23:04:18,816 INFO sqlalchemy.engine.base.Engine SELECT adults.id AS adults_id, adults.age AS adults_age, adults.workclass AS adults_workclass, adults.fnlwgt AS adults_fnlwgt, adults.education AS adults_education, adults.educationnum AS adults_educationnum, adults.maritalstatus AS adults_maritalstatus, adults.occupation AS adults_occupation, adults.relationship AS adults_relationship, adults.race AS adults_race, adults.sex AS adults_sex, adults.capitalgain AS adults_capitalgain, adults.capitalloss AS adults_capitalloss, adults.hoursperweek AS adults_hoursperweek, adults.nativecountry AS adults_nativecountry, adults.totalgain AS adults_totalgain \n",
      "FROM adults \n",
      "WHERE adults.age < ?\n",
      "2018-11-24 23:04:18,819 INFO sqlalchemy.engine.base.Engine (50,)\n",
      "<Adults(age='38', workclass=' Private', fnlwgt=' 215646',capitalloss= 0)>\n"
     ]
    }
   ],
   "source": [
    "for a in session.query(Adults).\\\n",
    "        filter(Adults.age<50):\n",
    "    print(a)"
   ]
  },
  {
   "cell_type": "code",
   "execution_count": 21,
   "metadata": {},
   "outputs": [
    {
     "name": "stdout",
     "output_type": "stream",
     "text": [
      "2018-11-24 23:04:21,955 INFO sqlalchemy.engine.base.Engine SELECT count(adults.age) AS count_1, adults.age AS adults_age \n",
      "FROM adults GROUP BY adults.age\n",
      "2018-11-24 23:04:21,958 INFO sqlalchemy.engine.base.Engine ()\n"
     ]
    },
    {
     "data": {
      "text/plain": [
       "[(1, 38), (1, 53)]"
      ]
     },
     "execution_count": 21,
     "metadata": {},
     "output_type": "execute_result"
    }
   ],
   "source": [
    "# 5. Write two function queries\n",
    "from sqlalchemy import func\n",
    "# Query to fetch the count of Adults grouped by age\n",
    "session.query(func.count(Adults.age), Adults.age).group_by(Adults.age).all()"
   ]
  },
  {
   "cell_type": "code",
   "execution_count": 22,
   "metadata": {},
   "outputs": [
    {
     "name": "stdout",
     "output_type": "stream",
     "text": [
      "2018-11-24 23:04:24,672 INFO sqlalchemy.engine.base.Engine SELECT count(?) AS count_1 \n",
      "FROM adults\n",
      "2018-11-24 23:04:24,675 INFO sqlalchemy.engine.base.Engine ('*',)\n"
     ]
    },
    {
     "data": {
      "text/plain": [
       "2"
      ]
     },
     "execution_count": 22,
     "metadata": {},
     "output_type": "execute_result"
    }
   ],
   "source": [
    "# Query to fetch the count of rows in Adults Table\n",
    "session.query(func.count('*')).select_from(Adults).scalar()"
   ]
  },
  {
   "cell_type": "code",
   "execution_count": null,
   "metadata": {},
   "outputs": [],
   "source": []
  }
 ],
 "metadata": {
  "kernelspec": {
   "display_name": "Python 3",
   "language": "python",
   "name": "python3"
  },
  "language_info": {
   "codemirror_mode": {
    "name": "ipython",
    "version": 3
   },
   "file_extension": ".py",
   "mimetype": "text/x-python",
   "name": "python",
   "nbconvert_exporter": "python",
   "pygments_lexer": "ipython3",
   "version": "3.6.5"
  }
 },
 "nbformat": 4,
 "nbformat_minor": 2
}
